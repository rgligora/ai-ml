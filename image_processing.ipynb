{
  "cells": [
    {
      "cell_type": "markdown",
      "id": "1e205d5d-216a-4782-abc8-bc975a4159d0",
      "metadata": {
        "id": "1e205d5d-216a-4782-abc8-bc975a4159d0"
      },
      "source": [
        "# Data Science | Lab: Image Processing\n",
        "**Table of Contents:**  <a name=\"toc\"></a>\n",
        "1. [Bag of Visual Words](#bovw)\n",
        "2. [Histogram of Visual Words](#hovw)\n",
        "3. [Image Classification](#classification)"
      ]
    },
    {
      "cell_type": "markdown",
      "id": "604a8c29-fb83-4e34-b794-0ec6657850a3",
      "metadata": {
        "id": "604a8c29-fb83-4e34-b794-0ec6657850a3"
      },
      "source": [
        "# Bag of Visual Words\n",
        "Analogous to the Bag of Words technique which we covered in the last lab, we will extract \"visual\" words in order to classify images in this session regarding image processing.\n",
        "\n",
        "<a name=\"bovw\"></a>\n",
        "<div style=\"width: 500px; text-align: center;\">\n",
        "    <img src=\"https://customers.pyimagesearch.com/wp-content/uploads/2015/09/bovw_image_example.jpg\"/>\n",
        "    <a href=\"https://customers.pyimagesearch.com/the-bag-of-visual-words-model/\" style=\"\">Source</a>\n",
        "</div>"
      ]
    },
    {
      "cell_type": "code",
      "execution_count": 15,
      "id": "3e062036-102b-4490-b336-39c9f61546d3",
      "metadata": {
        "colab": {
          "base_uri": "https://localhost:8080/"
        },
        "id": "3e062036-102b-4490-b336-39c9f61546d3",
        "outputId": "f7441f9c-1ec0-4374-954d-2f7bef2dd68f"
      },
      "outputs": [
        {
          "name": "stdout",
          "output_type": "stream",
          "text": [
            "Defaulting to user installation because normal site-packages is not writeable\n",
            "Requirement already satisfied: opencv-contrib-python in /Users/rgligora/Library/Python/3.9/lib/python/site-packages (4.11.0.86)\n",
            "Requirement already satisfied: numpy>=1.21.0 in /Users/rgligora/Library/Python/3.9/lib/python/site-packages (from opencv-contrib-python) (2.0.2)\n",
            "Note: you may need to restart the kernel to use updated packages.\n",
            "Defaulting to user installation because normal site-packages is not writeable\n",
            "Requirement already satisfied: imutils in /Users/rgligora/Library/Python/3.9/lib/python/site-packages (0.5.4)\n",
            "Note: you may need to restart the kernel to use updated packages.\n"
          ]
        }
      ],
      "source": [
        "%pip install opencv-contrib-python\n",
        "%pip install imutils\n",
        "\n",
        "import numpy as np\n",
        "import matplotlib.pyplot as plt\n",
        "import os\n",
        "from sklearn.model_selection import train_test_split, StratifiedKFold\n",
        "from scipy.cluster.vq import vq\n",
        "from sklearn.neighbors import NearestCentroid\n",
        "from sklearn.metrics import accuracy_score\n",
        "import imutils\n",
        "import cv2"
      ]
    },
    {
      "cell_type": "markdown",
      "id": "3a289b97-333d-4ee1-9742-c44504737e88",
      "metadata": {
        "id": "3a289b97-333d-4ee1-9742-c44504737e88"
      },
      "source": [
        "### Constructing the dataset\n",
        "- Download the dataset from moodle and extract it into the folder your notebook is in (or adapt the ``directory`` below).\n",
        "- More information on the Caltech 101 dataset, which contains images of objects belonging to 101 categories, can be found [here](https://data.caltech.edu/records/mzrjq-6wc02).\n",
        "- Before you start diving into the task, have a look at the datasets' structure and select three different types of images you want to use in this lab session.\n",
        "- Save the names of the image classes you want to use in ``use_classes``.\n",
        "- Iterate over all the directories holding images of the classes you chose and save the image paths to variable ``X_paths``.\n",
        "- For each image path in ``X_paths``, we need its corresponding label saved to ``y``."
      ]
    },
    {
      "cell_type": "code",
      "execution_count": 2,
      "id": "42acfc34-0a64-406e-9e4a-df18dde42e5d",
      "metadata": {
        "id": "42acfc34-0a64-406e-9e4a-df18dde42e5d"
      },
      "outputs": [],
      "source": [
        "# Define the image source folder\n",
        "directory = \"101_ObjectCategories\"\n",
        "# Choose three different classes individually\n",
        "use_classes = [\n",
        "    \"barrel\",\n",
        "    \"cannon\",\n",
        "    \"crab\"\n",
        "]"
      ]
    },
    {
      "cell_type": "code",
      "execution_count": 3,
      "id": "3321ce2c-5f19-4fb5-8d3a-9f109968095d",
      "metadata": {
        "id": "3321ce2c-5f19-4fb5-8d3a-9f109968095d"
      },
      "outputs": [],
      "source": [
        "# This variable will store paths to each image ->  remains empty\n",
        "X_paths = []\n",
        "# This variable will store class id as label ->  remains empty\n",
        "y = []"
      ]
    },
    {
      "cell_type": "code",
      "execution_count": 4,
      "id": "d7b58c76-18be-42c0-971e-ed82d06d8f06",
      "metadata": {
        "colab": {
          "base_uri": "https://localhost:8080/"
        },
        "id": "d7b58c76-18be-42c0-971e-ed82d06d8f06",
        "outputId": "b8670d86-1c42-4608-ff81-0ddfdb19c3af"
      },
      "outputs": [
        {
          "name": "stdout",
          "output_type": "stream",
          "text": [
            "Collected 163 image paths.\n",
            "Collected 163 labels.\n",
            "['101_ObjectCategories/barrel/image_0001.jpg', '101_ObjectCategories/barrel/image_0002.jpg', '101_ObjectCategories/barrel/image_0003.jpg', '101_ObjectCategories/barrel/image_0004.jpg', '101_ObjectCategories/barrel/image_0005.jpg', '101_ObjectCategories/barrel/image_0006.jpg', '101_ObjectCategories/barrel/image_0007.jpg', '101_ObjectCategories/barrel/image_0008.jpg', '101_ObjectCategories/barrel/image_0009.jpg', '101_ObjectCategories/barrel/image_0010.jpg', '101_ObjectCategories/barrel/image_0011.jpg', '101_ObjectCategories/barrel/image_0012.jpg', '101_ObjectCategories/barrel/image_0013.jpg', '101_ObjectCategories/barrel/image_0014.jpg', '101_ObjectCategories/barrel/image_0015.jpg', '101_ObjectCategories/barrel/image_0016.jpg', '101_ObjectCategories/barrel/image_0017.jpg', '101_ObjectCategories/barrel/image_0018.jpg', '101_ObjectCategories/barrel/image_0019.jpg', '101_ObjectCategories/barrel/image_0020.jpg', '101_ObjectCategories/barrel/image_0021.jpg', '101_ObjectCategories/barrel/image_0022.jpg', '101_ObjectCategories/barrel/image_0023.jpg', '101_ObjectCategories/barrel/image_0024.jpg', '101_ObjectCategories/barrel/image_0025.jpg', '101_ObjectCategories/barrel/image_0026.jpg', '101_ObjectCategories/barrel/image_0027.jpg', '101_ObjectCategories/barrel/image_0028.jpg', '101_ObjectCategories/barrel/image_0029.jpg', '101_ObjectCategories/barrel/image_0030.jpg', '101_ObjectCategories/barrel/image_0031.jpg', '101_ObjectCategories/barrel/image_0032.jpg', '101_ObjectCategories/barrel/image_0033.jpg', '101_ObjectCategories/barrel/image_0034.jpg', '101_ObjectCategories/barrel/image_0035.jpg', '101_ObjectCategories/barrel/image_0036.jpg', '101_ObjectCategories/barrel/image_0037.jpg', '101_ObjectCategories/barrel/image_0038.jpg', '101_ObjectCategories/barrel/image_0039.jpg', '101_ObjectCategories/barrel/image_0040.jpg', '101_ObjectCategories/barrel/image_0041.jpg', '101_ObjectCategories/barrel/image_0042.jpg', '101_ObjectCategories/barrel/image_0043.jpg', '101_ObjectCategories/barrel/image_0044.jpg', '101_ObjectCategories/barrel/image_0045.jpg', '101_ObjectCategories/barrel/image_0046.jpg', '101_ObjectCategories/barrel/image_0047.jpg', '101_ObjectCategories/cannon/image_0001.jpg', '101_ObjectCategories/cannon/image_0002.jpg', '101_ObjectCategories/cannon/image_0003.jpg', '101_ObjectCategories/cannon/image_0004.jpg', '101_ObjectCategories/cannon/image_0005.jpg', '101_ObjectCategories/cannon/image_0006.jpg', '101_ObjectCategories/cannon/image_0007.jpg', '101_ObjectCategories/cannon/image_0008.jpg', '101_ObjectCategories/cannon/image_0009.jpg', '101_ObjectCategories/cannon/image_0010.jpg', '101_ObjectCategories/cannon/image_0011.jpg', '101_ObjectCategories/cannon/image_0012.jpg', '101_ObjectCategories/cannon/image_0013.jpg', '101_ObjectCategories/cannon/image_0014.jpg', '101_ObjectCategories/cannon/image_0015.jpg', '101_ObjectCategories/cannon/image_0016.jpg', '101_ObjectCategories/cannon/image_0017.jpg', '101_ObjectCategories/cannon/image_0018.jpg', '101_ObjectCategories/cannon/image_0019.jpg', '101_ObjectCategories/cannon/image_0020.jpg', '101_ObjectCategories/cannon/image_0021.jpg', '101_ObjectCategories/cannon/image_0022.jpg', '101_ObjectCategories/cannon/image_0023.jpg', '101_ObjectCategories/cannon/image_0024.jpg', '101_ObjectCategories/cannon/image_0025.jpg', '101_ObjectCategories/cannon/image_0026.jpg', '101_ObjectCategories/cannon/image_0027.jpg', '101_ObjectCategories/cannon/image_0028.jpg', '101_ObjectCategories/cannon/image_0029.jpg', '101_ObjectCategories/cannon/image_0030.jpg', '101_ObjectCategories/cannon/image_0031.jpg', '101_ObjectCategories/cannon/image_0032.jpg', '101_ObjectCategories/cannon/image_0033.jpg', '101_ObjectCategories/cannon/image_0034.jpg', '101_ObjectCategories/cannon/image_0035.jpg', '101_ObjectCategories/cannon/image_0036.jpg', '101_ObjectCategories/cannon/image_0037.jpg', '101_ObjectCategories/cannon/image_0038.jpg', '101_ObjectCategories/cannon/image_0039.jpg', '101_ObjectCategories/cannon/image_0040.jpg', '101_ObjectCategories/cannon/image_0041.jpg', '101_ObjectCategories/cannon/image_0042.jpg', '101_ObjectCategories/cannon/image_0043.jpg', '101_ObjectCategories/crab/image_0001.jpg', '101_ObjectCategories/crab/image_0002.jpg', '101_ObjectCategories/crab/image_0003.jpg', '101_ObjectCategories/crab/image_0004.jpg', '101_ObjectCategories/crab/image_0005.jpg', '101_ObjectCategories/crab/image_0006.jpg', '101_ObjectCategories/crab/image_0007.jpg', '101_ObjectCategories/crab/image_0008.jpg', '101_ObjectCategories/crab/image_0009.jpg', '101_ObjectCategories/crab/image_0010.jpg', '101_ObjectCategories/crab/image_0011.jpg', '101_ObjectCategories/crab/image_0012.jpg', '101_ObjectCategories/crab/image_0013.jpg', '101_ObjectCategories/crab/image_0014.jpg', '101_ObjectCategories/crab/image_0015.jpg', '101_ObjectCategories/crab/image_0016.jpg', '101_ObjectCategories/crab/image_0017.jpg', '101_ObjectCategories/crab/image_0018.jpg', '101_ObjectCategories/crab/image_0019.jpg', '101_ObjectCategories/crab/image_0020.jpg', '101_ObjectCategories/crab/image_0021.jpg', '101_ObjectCategories/crab/image_0022.jpg', '101_ObjectCategories/crab/image_0023.jpg', '101_ObjectCategories/crab/image_0024.jpg', '101_ObjectCategories/crab/image_0025.jpg', '101_ObjectCategories/crab/image_0026.jpg', '101_ObjectCategories/crab/image_0027.jpg', '101_ObjectCategories/crab/image_0028.jpg', '101_ObjectCategories/crab/image_0029.jpg', '101_ObjectCategories/crab/image_0030.jpg', '101_ObjectCategories/crab/image_0031.jpg', '101_ObjectCategories/crab/image_0032.jpg', '101_ObjectCategories/crab/image_0033.jpg', '101_ObjectCategories/crab/image_0034.jpg', '101_ObjectCategories/crab/image_0035.jpg', '101_ObjectCategories/crab/image_0036.jpg', '101_ObjectCategories/crab/image_0037.jpg', '101_ObjectCategories/crab/image_0038.jpg', '101_ObjectCategories/crab/image_0039.jpg', '101_ObjectCategories/crab/image_0040.jpg', '101_ObjectCategories/crab/image_0041.jpg', '101_ObjectCategories/crab/image_0042.jpg', '101_ObjectCategories/crab/image_0043.jpg', '101_ObjectCategories/crab/image_0044.jpg', '101_ObjectCategories/crab/image_0045.jpg', '101_ObjectCategories/crab/image_0046.jpg', '101_ObjectCategories/crab/image_0047.jpg', '101_ObjectCategories/crab/image_0048.jpg', '101_ObjectCategories/crab/image_0049.jpg', '101_ObjectCategories/crab/image_0050.jpg', '101_ObjectCategories/crab/image_0051.jpg', '101_ObjectCategories/crab/image_0052.jpg', '101_ObjectCategories/crab/image_0053.jpg', '101_ObjectCategories/crab/image_0054.jpg', '101_ObjectCategories/crab/image_0055.jpg', '101_ObjectCategories/crab/image_0056.jpg', '101_ObjectCategories/crab/image_0057.jpg', '101_ObjectCategories/crab/image_0058.jpg', '101_ObjectCategories/crab/image_0059.jpg', '101_ObjectCategories/crab/image_0060.jpg', '101_ObjectCategories/crab/image_0061.jpg', '101_ObjectCategories/crab/image_0062.jpg', '101_ObjectCategories/crab/image_0063.jpg', '101_ObjectCategories/crab/image_0064.jpg', '101_ObjectCategories/crab/image_0065.jpg', '101_ObjectCategories/crab/image_0066.jpg', '101_ObjectCategories/crab/image_0067.jpg', '101_ObjectCategories/crab/image_0068.jpg', '101_ObjectCategories/crab/image_0069.jpg', '101_ObjectCategories/crab/image_0070.jpg', '101_ObjectCategories/crab/image_0071.jpg', '101_ObjectCategories/crab/image_0072.jpg', '101_ObjectCategories/crab/image_0073.jpg']\n"
          ]
        }
      ],
      "source": [
        "# TODO:\n",
        "# - iterate over the classes you chose\n",
        "# - select all image paths that are present in the respective folders corresponding to these classes\n",
        "#     - add those paths in X_paths\n",
        "# - for each image you added to X_paths this way, save an instance of its class id to y\n",
        "\n",
        "for class_id, class_name in enumerate(use_classes):\n",
        "    class_folder = os.path.join(directory, class_name)\n",
        "    if os.path.isdir(class_folder):\n",
        "        for file_name in sorted(os.listdir(class_folder)):\n",
        "            if file_name.lower().endswith(('jpg', 'jpeg', 'png')):  # Ensure valid image formats\n",
        "                image_path = os.path.join(class_folder, file_name)\n",
        "                X_paths.append(image_path)\n",
        "                y.append(class_id)  # Use class index as label\n",
        "\n",
        "# Display the collected image paths and labels\n",
        "print(f\"Collected {len(X_paths)} image paths.\")\n",
        "print(f\"Collected {len(y)} labels.\")\n",
        "print(X_paths)"
      ]
    },
    {
      "cell_type": "markdown",
      "id": "47f57e8b-bdee-4eea-a701-de5f53a27f30",
      "metadata": {
        "id": "47f57e8b-bdee-4eea-a701-de5f53a27f30"
      },
      "source": [
        "### Train/Test split\n",
        "- Perform a train/test split of the dataset (``X`` being image paths, ``y`` being corresponding labels) you constructed.\n",
        "- Use 80% of data to train the model.\n",
        "- Be sure to use stratified sampling since not all categories consist of equal number of images."
      ]
    },
    {
      "cell_type": "code",
      "execution_count": 5,
      "id": "59feafc0-df27-4746-bac0-2e36f908be0f",
      "metadata": {
        "colab": {
          "base_uri": "https://localhost:8080/"
        },
        "id": "59feafc0-df27-4746-bac0-2e36f908be0f",
        "outputId": "cb4f176b-7eb4-4b5f-ffc6-dcb1f47e8ace"
      },
      "outputs": [
        {
          "name": "stdout",
          "output_type": "stream",
          "text": [
            "Total samples: 163\n",
            "Training samples: 130\n",
            "Test samples: 33\n",
            "Class distribution in training set: (array([0, 1, 2]), array([38, 34, 58]))\n",
            "Class distribution in test set: (array([0, 1, 2]), array([ 9,  9, 15]))\n"
          ]
        }
      ],
      "source": [
        "X_train, X_test, y_train, y_test = train_test_split(\n",
        "    X_paths,  # List of image paths\n",
        "    y,        # List of corresponding labels\n",
        "    test_size=0.2,\n",
        "    stratify=y,  # Preserve class distribution\n",
        "    random_state=42  # For reproducibility\n",
        ")\n",
        "\n",
        "# Verify split sizes\n",
        "print(f\"Total samples: {len(X_paths)}\")\n",
        "print(f\"Training samples: {len(X_train)}\")\n",
        "print(f\"Test samples: {len(X_test)}\")\n",
        "print(f\"Class distribution in training set: {np.unique(y_train, return_counts=True)}\")\n",
        "print(f\"Class distribution in test set: {np.unique(y_test, return_counts=True)}\")"
      ]
    },
    {
      "cell_type": "markdown",
      "id": "93e56428-018b-4583-a5ad-8e1cc2f6a0d9",
      "metadata": {
        "id": "93e56428-018b-4583-a5ad-8e1cc2f6a0d9"
      },
      "source": [
        "### Extract SIFT Features\n",
        "- Use ``cv2`` ([OpenCV](https://docs.opencv.org/4.9.0/index.html)) to extract meaningful features from images.\n",
        "- Loop through the image paths you saved in your training set and extract the descriptors of found keypoints using the ``detectAndCompute()`` method of OpenCV's SIFT implementation as described [here](https://docs.opencv.org/4.9.0/d0/d13/classcv_1_1Feature2D.html#a8be0d1c20b08eb867184b8d74c15a677).\n",
        "- For more information on how to use SIFT in OpenCV, check this [tutorial](https://docs.opencv.org/4.9.0/da/df5/tutorial_py_sift_intro.html)."
      ]
    },
    {
      "cell_type": "code",
      "execution_count": 6,
      "id": "472c49ff-ed12-4109-8702-798f0336c279",
      "metadata": {
        "id": "472c49ff-ed12-4109-8702-798f0336c279"
      },
      "outputs": [],
      "source": [
        "def extract_features(image_paths):\n",
        "    desc_list = []\n",
        "    sift = cv2.SIFT_create()  # Create a SIFT object\n",
        "\n",
        "    for image_path in image_paths:\n",
        "        img = cv2.imread(image_path, cv2.IMREAD_GRAYSCALE)  # Read image in grayscale\n",
        "        kp, des = sift.detectAndCompute(img, None)  # Detect keypoints and compute descriptors\n",
        "        if des is not None:  # Check if descriptors were found\n",
        "            desc_list.append(des)\n",
        "        else:\n",
        "            # Handle cases where no descriptors are found\n",
        "            # For example, append an empty array or skip the image\n",
        "            print(f\"Warning: No descriptors found for {image_path}\")\n",
        "            desc_list.append(np.array([]))\n",
        "\n",
        "    return desc_list"
      ]
    },
    {
      "cell_type": "code",
      "execution_count": 7,
      "id": "6bb61244-844b-44d4-a283-7bdee146dc76",
      "metadata": {
        "id": "6bb61244-844b-44d4-a283-7bdee146dc76"
      },
      "outputs": [],
      "source": [
        "train_desc_list = extract_features(X_train)"
      ]
    },
    {
      "cell_type": "markdown",
      "id": "e09d7d76-7eb8-41e8-aebe-1cca6d1c58cd",
      "metadata": {
        "id": "e09d7d76-7eb8-41e8-aebe-1cca6d1c58cd"
      },
      "source": [
        "### Clustering\n",
        "- We want to assign similar descriptors to clusters that represent the idea of visual words in our images.\n",
        "- To do this, use the K-Means clustering method to extract clusters of descriptors from the descriptors found in all images of the training set.\n",
        "    - If you want to use [sklearn's](https://scikit-learn.org/stable/modules/generated/sklearn.cluster.KMeans.html) K-Means implementation, you need to parameterize it to reduce runtime (i.e., set ``n_init``, minimize ``max_iter``).\n",
        "    - You can also rely on [OpenCV](https://docs.opencv.org/4.x/d1/d5c/tutorial_py_kmeans_opencv.html), as it provides a faster implementation of K-Means.\n",
        "- In any case, we want to set ``k=100`` as the number of clusters that are to be applied to the keypoint descriptors computed by SIFT.\n",
        "\n",
        "<div class=\"alert alert-block alert-info\">\n",
        "    <b>Caution:</b> As we applied SIFT feature extraction to each image individually, you will have to flatten <tt>train_desc_list</tt> in order to perform the clustering correctly.\n",
        "</div>"
      ]
    },
    {
      "cell_type": "code",
      "execution_count": 8,
      "id": "f3bb78e1-37d4-41cb-8a6e-d3f43659653d",
      "metadata": {
        "id": "f3bb78e1-37d4-41cb-8a6e-d3f43659653d"
      },
      "outputs": [],
      "source": [
        "# TODO: Stack all the descriptors of train_desc_list vertically in a numpy array\n",
        "train_descriptors = np.vstack(train_desc_list)"
      ]
    },
    {
      "cell_type": "code",
      "execution_count": 9,
      "id": "3d0e2cfe-5599-49a5-bcd9-113928fd2bfc",
      "metadata": {
        "colab": {
          "base_uri": "https://localhost:8080/",
          "height": 80
        },
        "id": "3d0e2cfe-5599-49a5-bcd9-113928fd2bfc",
        "outputId": "c237a74b-1e16-4550-9a8d-b648beaa20a0"
      },
      "outputs": [
        {
          "data": {
            "text/html": [
              "<style>#sk-container-id-1 {\n",
              "  /* Definition of color scheme common for light and dark mode */\n",
              "  --sklearn-color-text: black;\n",
              "  --sklearn-color-line: gray;\n",
              "  /* Definition of color scheme for unfitted estimators */\n",
              "  --sklearn-color-unfitted-level-0: #fff5e6;\n",
              "  --sklearn-color-unfitted-level-1: #f6e4d2;\n",
              "  --sklearn-color-unfitted-level-2: #ffe0b3;\n",
              "  --sklearn-color-unfitted-level-3: chocolate;\n",
              "  /* Definition of color scheme for fitted estimators */\n",
              "  --sklearn-color-fitted-level-0: #f0f8ff;\n",
              "  --sklearn-color-fitted-level-1: #d4ebff;\n",
              "  --sklearn-color-fitted-level-2: #b3dbfd;\n",
              "  --sklearn-color-fitted-level-3: cornflowerblue;\n",
              "\n",
              "  /* Specific color for light theme */\n",
              "  --sklearn-color-text-on-default-background: var(--sg-text-color, var(--theme-code-foreground, var(--jp-content-font-color1, black)));\n",
              "  --sklearn-color-background: var(--sg-background-color, var(--theme-background, var(--jp-layout-color0, white)));\n",
              "  --sklearn-color-border-box: var(--sg-text-color, var(--theme-code-foreground, var(--jp-content-font-color1, black)));\n",
              "  --sklearn-color-icon: #696969;\n",
              "\n",
              "  @media (prefers-color-scheme: dark) {\n",
              "    /* Redefinition of color scheme for dark theme */\n",
              "    --sklearn-color-text-on-default-background: var(--sg-text-color, var(--theme-code-foreground, var(--jp-content-font-color1, white)));\n",
              "    --sklearn-color-background: var(--sg-background-color, var(--theme-background, var(--jp-layout-color0, #111)));\n",
              "    --sklearn-color-border-box: var(--sg-text-color, var(--theme-code-foreground, var(--jp-content-font-color1, white)));\n",
              "    --sklearn-color-icon: #878787;\n",
              "  }\n",
              "}\n",
              "\n",
              "#sk-container-id-1 {\n",
              "  color: var(--sklearn-color-text);\n",
              "}\n",
              "\n",
              "#sk-container-id-1 pre {\n",
              "  padding: 0;\n",
              "}\n",
              "\n",
              "#sk-container-id-1 input.sk-hidden--visually {\n",
              "  border: 0;\n",
              "  clip: rect(1px 1px 1px 1px);\n",
              "  clip: rect(1px, 1px, 1px, 1px);\n",
              "  height: 1px;\n",
              "  margin: -1px;\n",
              "  overflow: hidden;\n",
              "  padding: 0;\n",
              "  position: absolute;\n",
              "  width: 1px;\n",
              "}\n",
              "\n",
              "#sk-container-id-1 div.sk-dashed-wrapped {\n",
              "  border: 1px dashed var(--sklearn-color-line);\n",
              "  margin: 0 0.4em 0.5em 0.4em;\n",
              "  box-sizing: border-box;\n",
              "  padding-bottom: 0.4em;\n",
              "  background-color: var(--sklearn-color-background);\n",
              "}\n",
              "\n",
              "#sk-container-id-1 div.sk-container {\n",
              "  /* jupyter's `normalize.less` sets `[hidden] { display: none; }`\n",
              "     but bootstrap.min.css set `[hidden] { display: none !important; }`\n",
              "     so we also need the `!important` here to be able to override the\n",
              "     default hidden behavior on the sphinx rendered scikit-learn.org.\n",
              "     See: https://github.com/scikit-learn/scikit-learn/issues/21755 */\n",
              "  display: inline-block !important;\n",
              "  position: relative;\n",
              "}\n",
              "\n",
              "#sk-container-id-1 div.sk-text-repr-fallback {\n",
              "  display: none;\n",
              "}\n",
              "\n",
              "div.sk-parallel-item,\n",
              "div.sk-serial,\n",
              "div.sk-item {\n",
              "  /* draw centered vertical line to link estimators */\n",
              "  background-image: linear-gradient(var(--sklearn-color-text-on-default-background), var(--sklearn-color-text-on-default-background));\n",
              "  background-size: 2px 100%;\n",
              "  background-repeat: no-repeat;\n",
              "  background-position: center center;\n",
              "}\n",
              "\n",
              "/* Parallel-specific style estimator block */\n",
              "\n",
              "#sk-container-id-1 div.sk-parallel-item::after {\n",
              "  content: \"\";\n",
              "  width: 100%;\n",
              "  border-bottom: 2px solid var(--sklearn-color-text-on-default-background);\n",
              "  flex-grow: 1;\n",
              "}\n",
              "\n",
              "#sk-container-id-1 div.sk-parallel {\n",
              "  display: flex;\n",
              "  align-items: stretch;\n",
              "  justify-content: center;\n",
              "  background-color: var(--sklearn-color-background);\n",
              "  position: relative;\n",
              "}\n",
              "\n",
              "#sk-container-id-1 div.sk-parallel-item {\n",
              "  display: flex;\n",
              "  flex-direction: column;\n",
              "}\n",
              "\n",
              "#sk-container-id-1 div.sk-parallel-item:first-child::after {\n",
              "  align-self: flex-end;\n",
              "  width: 50%;\n",
              "}\n",
              "\n",
              "#sk-container-id-1 div.sk-parallel-item:last-child::after {\n",
              "  align-self: flex-start;\n",
              "  width: 50%;\n",
              "}\n",
              "\n",
              "#sk-container-id-1 div.sk-parallel-item:only-child::after {\n",
              "  width: 0;\n",
              "}\n",
              "\n",
              "/* Serial-specific style estimator block */\n",
              "\n",
              "#sk-container-id-1 div.sk-serial {\n",
              "  display: flex;\n",
              "  flex-direction: column;\n",
              "  align-items: center;\n",
              "  background-color: var(--sklearn-color-background);\n",
              "  padding-right: 1em;\n",
              "  padding-left: 1em;\n",
              "}\n",
              "\n",
              "\n",
              "/* Toggleable style: style used for estimator/Pipeline/ColumnTransformer box that is\n",
              "clickable and can be expanded/collapsed.\n",
              "- Pipeline and ColumnTransformer use this feature and define the default style\n",
              "- Estimators will overwrite some part of the style using the `sk-estimator` class\n",
              "*/\n",
              "\n",
              "/* Pipeline and ColumnTransformer style (default) */\n",
              "\n",
              "#sk-container-id-1 div.sk-toggleable {\n",
              "  /* Default theme specific background. It is overwritten whether we have a\n",
              "  specific estimator or a Pipeline/ColumnTransformer */\n",
              "  background-color: var(--sklearn-color-background);\n",
              "}\n",
              "\n",
              "/* Toggleable label */\n",
              "#sk-container-id-1 label.sk-toggleable__label {\n",
              "  cursor: pointer;\n",
              "  display: block;\n",
              "  width: 100%;\n",
              "  margin-bottom: 0;\n",
              "  padding: 0.5em;\n",
              "  box-sizing: border-box;\n",
              "  text-align: center;\n",
              "}\n",
              "\n",
              "#sk-container-id-1 label.sk-toggleable__label-arrow:before {\n",
              "  /* Arrow on the left of the label */\n",
              "  content: \"▸\";\n",
              "  float: left;\n",
              "  margin-right: 0.25em;\n",
              "  color: var(--sklearn-color-icon);\n",
              "}\n",
              "\n",
              "#sk-container-id-1 label.sk-toggleable__label-arrow:hover:before {\n",
              "  color: var(--sklearn-color-text);\n",
              "}\n",
              "\n",
              "/* Toggleable content - dropdown */\n",
              "\n",
              "#sk-container-id-1 div.sk-toggleable__content {\n",
              "  max-height: 0;\n",
              "  max-width: 0;\n",
              "  overflow: hidden;\n",
              "  text-align: left;\n",
              "  /* unfitted */\n",
              "  background-color: var(--sklearn-color-unfitted-level-0);\n",
              "}\n",
              "\n",
              "#sk-container-id-1 div.sk-toggleable__content.fitted {\n",
              "  /* fitted */\n",
              "  background-color: var(--sklearn-color-fitted-level-0);\n",
              "}\n",
              "\n",
              "#sk-container-id-1 div.sk-toggleable__content pre {\n",
              "  margin: 0.2em;\n",
              "  border-radius: 0.25em;\n",
              "  color: var(--sklearn-color-text);\n",
              "  /* unfitted */\n",
              "  background-color: var(--sklearn-color-unfitted-level-0);\n",
              "}\n",
              "\n",
              "#sk-container-id-1 div.sk-toggleable__content.fitted pre {\n",
              "  /* unfitted */\n",
              "  background-color: var(--sklearn-color-fitted-level-0);\n",
              "}\n",
              "\n",
              "#sk-container-id-1 input.sk-toggleable__control:checked~div.sk-toggleable__content {\n",
              "  /* Expand drop-down */\n",
              "  max-height: 200px;\n",
              "  max-width: 100%;\n",
              "  overflow: auto;\n",
              "}\n",
              "\n",
              "#sk-container-id-1 input.sk-toggleable__control:checked~label.sk-toggleable__label-arrow:before {\n",
              "  content: \"▾\";\n",
              "}\n",
              "\n",
              "/* Pipeline/ColumnTransformer-specific style */\n",
              "\n",
              "#sk-container-id-1 div.sk-label input.sk-toggleable__control:checked~label.sk-toggleable__label {\n",
              "  color: var(--sklearn-color-text);\n",
              "  background-color: var(--sklearn-color-unfitted-level-2);\n",
              "}\n",
              "\n",
              "#sk-container-id-1 div.sk-label.fitted input.sk-toggleable__control:checked~label.sk-toggleable__label {\n",
              "  background-color: var(--sklearn-color-fitted-level-2);\n",
              "}\n",
              "\n",
              "/* Estimator-specific style */\n",
              "\n",
              "/* Colorize estimator box */\n",
              "#sk-container-id-1 div.sk-estimator input.sk-toggleable__control:checked~label.sk-toggleable__label {\n",
              "  /* unfitted */\n",
              "  background-color: var(--sklearn-color-unfitted-level-2);\n",
              "}\n",
              "\n",
              "#sk-container-id-1 div.sk-estimator.fitted input.sk-toggleable__control:checked~label.sk-toggleable__label {\n",
              "  /* fitted */\n",
              "  background-color: var(--sklearn-color-fitted-level-2);\n",
              "}\n",
              "\n",
              "#sk-container-id-1 div.sk-label label.sk-toggleable__label,\n",
              "#sk-container-id-1 div.sk-label label {\n",
              "  /* The background is the default theme color */\n",
              "  color: var(--sklearn-color-text-on-default-background);\n",
              "}\n",
              "\n",
              "/* On hover, darken the color of the background */\n",
              "#sk-container-id-1 div.sk-label:hover label.sk-toggleable__label {\n",
              "  color: var(--sklearn-color-text);\n",
              "  background-color: var(--sklearn-color-unfitted-level-2);\n",
              "}\n",
              "\n",
              "/* Label box, darken color on hover, fitted */\n",
              "#sk-container-id-1 div.sk-label.fitted:hover label.sk-toggleable__label.fitted {\n",
              "  color: var(--sklearn-color-text);\n",
              "  background-color: var(--sklearn-color-fitted-level-2);\n",
              "}\n",
              "\n",
              "/* Estimator label */\n",
              "\n",
              "#sk-container-id-1 div.sk-label label {\n",
              "  font-family: monospace;\n",
              "  font-weight: bold;\n",
              "  display: inline-block;\n",
              "  line-height: 1.2em;\n",
              "}\n",
              "\n",
              "#sk-container-id-1 div.sk-label-container {\n",
              "  text-align: center;\n",
              "}\n",
              "\n",
              "/* Estimator-specific */\n",
              "#sk-container-id-1 div.sk-estimator {\n",
              "  font-family: monospace;\n",
              "  border: 1px dotted var(--sklearn-color-border-box);\n",
              "  border-radius: 0.25em;\n",
              "  box-sizing: border-box;\n",
              "  margin-bottom: 0.5em;\n",
              "  /* unfitted */\n",
              "  background-color: var(--sklearn-color-unfitted-level-0);\n",
              "}\n",
              "\n",
              "#sk-container-id-1 div.sk-estimator.fitted {\n",
              "  /* fitted */\n",
              "  background-color: var(--sklearn-color-fitted-level-0);\n",
              "}\n",
              "\n",
              "/* on hover */\n",
              "#sk-container-id-1 div.sk-estimator:hover {\n",
              "  /* unfitted */\n",
              "  background-color: var(--sklearn-color-unfitted-level-2);\n",
              "}\n",
              "\n",
              "#sk-container-id-1 div.sk-estimator.fitted:hover {\n",
              "  /* fitted */\n",
              "  background-color: var(--sklearn-color-fitted-level-2);\n",
              "}\n",
              "\n",
              "/* Specification for estimator info (e.g. \"i\" and \"?\") */\n",
              "\n",
              "/* Common style for \"i\" and \"?\" */\n",
              "\n",
              ".sk-estimator-doc-link,\n",
              "a:link.sk-estimator-doc-link,\n",
              "a:visited.sk-estimator-doc-link {\n",
              "  float: right;\n",
              "  font-size: smaller;\n",
              "  line-height: 1em;\n",
              "  font-family: monospace;\n",
              "  background-color: var(--sklearn-color-background);\n",
              "  border-radius: 1em;\n",
              "  height: 1em;\n",
              "  width: 1em;\n",
              "  text-decoration: none !important;\n",
              "  margin-left: 1ex;\n",
              "  /* unfitted */\n",
              "  border: var(--sklearn-color-unfitted-level-1) 1pt solid;\n",
              "  color: var(--sklearn-color-unfitted-level-1);\n",
              "}\n",
              "\n",
              ".sk-estimator-doc-link.fitted,\n",
              "a:link.sk-estimator-doc-link.fitted,\n",
              "a:visited.sk-estimator-doc-link.fitted {\n",
              "  /* fitted */\n",
              "  border: var(--sklearn-color-fitted-level-1) 1pt solid;\n",
              "  color: var(--sklearn-color-fitted-level-1);\n",
              "}\n",
              "\n",
              "/* On hover */\n",
              "div.sk-estimator:hover .sk-estimator-doc-link:hover,\n",
              ".sk-estimator-doc-link:hover,\n",
              "div.sk-label-container:hover .sk-estimator-doc-link:hover,\n",
              ".sk-estimator-doc-link:hover {\n",
              "  /* unfitted */\n",
              "  background-color: var(--sklearn-color-unfitted-level-3);\n",
              "  color: var(--sklearn-color-background);\n",
              "  text-decoration: none;\n",
              "}\n",
              "\n",
              "div.sk-estimator.fitted:hover .sk-estimator-doc-link.fitted:hover,\n",
              ".sk-estimator-doc-link.fitted:hover,\n",
              "div.sk-label-container:hover .sk-estimator-doc-link.fitted:hover,\n",
              ".sk-estimator-doc-link.fitted:hover {\n",
              "  /* fitted */\n",
              "  background-color: var(--sklearn-color-fitted-level-3);\n",
              "  color: var(--sklearn-color-background);\n",
              "  text-decoration: none;\n",
              "}\n",
              "\n",
              "/* Span, style for the box shown on hovering the info icon */\n",
              ".sk-estimator-doc-link span {\n",
              "  display: none;\n",
              "  z-index: 9999;\n",
              "  position: relative;\n",
              "  font-weight: normal;\n",
              "  right: .2ex;\n",
              "  padding: .5ex;\n",
              "  margin: .5ex;\n",
              "  width: min-content;\n",
              "  min-width: 20ex;\n",
              "  max-width: 50ex;\n",
              "  color: var(--sklearn-color-text);\n",
              "  box-shadow: 2pt 2pt 4pt #999;\n",
              "  /* unfitted */\n",
              "  background: var(--sklearn-color-unfitted-level-0);\n",
              "  border: .5pt solid var(--sklearn-color-unfitted-level-3);\n",
              "}\n",
              "\n",
              ".sk-estimator-doc-link.fitted span {\n",
              "  /* fitted */\n",
              "  background: var(--sklearn-color-fitted-level-0);\n",
              "  border: var(--sklearn-color-fitted-level-3);\n",
              "}\n",
              "\n",
              ".sk-estimator-doc-link:hover span {\n",
              "  display: block;\n",
              "}\n",
              "\n",
              "/* \"?\"-specific style due to the `<a>` HTML tag */\n",
              "\n",
              "#sk-container-id-1 a.estimator_doc_link {\n",
              "  float: right;\n",
              "  font-size: 1rem;\n",
              "  line-height: 1em;\n",
              "  font-family: monospace;\n",
              "  background-color: var(--sklearn-color-background);\n",
              "  border-radius: 1rem;\n",
              "  height: 1rem;\n",
              "  width: 1rem;\n",
              "  text-decoration: none;\n",
              "  /* unfitted */\n",
              "  color: var(--sklearn-color-unfitted-level-1);\n",
              "  border: var(--sklearn-color-unfitted-level-1) 1pt solid;\n",
              "}\n",
              "\n",
              "#sk-container-id-1 a.estimator_doc_link.fitted {\n",
              "  /* fitted */\n",
              "  border: var(--sklearn-color-fitted-level-1) 1pt solid;\n",
              "  color: var(--sklearn-color-fitted-level-1);\n",
              "}\n",
              "\n",
              "/* On hover */\n",
              "#sk-container-id-1 a.estimator_doc_link:hover {\n",
              "  /* unfitted */\n",
              "  background-color: var(--sklearn-color-unfitted-level-3);\n",
              "  color: var(--sklearn-color-background);\n",
              "  text-decoration: none;\n",
              "}\n",
              "\n",
              "#sk-container-id-1 a.estimator_doc_link.fitted:hover {\n",
              "  /* fitted */\n",
              "  background-color: var(--sklearn-color-fitted-level-3);\n",
              "}\n",
              "</style><div id=\"sk-container-id-1\" class=\"sk-top-container\"><div class=\"sk-text-repr-fallback\"><pre>KMeans(max_iter=100, n_clusters=100, n_init=10, random_state=42)</pre><b>In a Jupyter environment, please rerun this cell to show the HTML representation or trust the notebook. <br />On GitHub, the HTML representation is unable to render, please try loading this page with nbviewer.org.</b></div><div class=\"sk-container\" hidden><div class=\"sk-item\"><div class=\"sk-estimator fitted sk-toggleable\"><input class=\"sk-toggleable__control sk-hidden--visually\" id=\"sk-estimator-id-1\" type=\"checkbox\" checked><label for=\"sk-estimator-id-1\" class=\"sk-toggleable__label fitted sk-toggleable__label-arrow fitted\">&nbsp;&nbsp;KMeans<a class=\"sk-estimator-doc-link fitted\" rel=\"noreferrer\" target=\"_blank\" href=\"https://scikit-learn.org/1.5/modules/generated/sklearn.cluster.KMeans.html\">?<span>Documentation for KMeans</span></a><span class=\"sk-estimator-doc-link fitted\">i<span>Fitted</span></span></label><div class=\"sk-toggleable__content fitted\"><pre>KMeans(max_iter=100, n_clusters=100, n_init=10, random_state=42)</pre></div> </div></div></div></div>"
            ],
            "text/plain": [
              "KMeans(max_iter=100, n_clusters=100, n_init=10, random_state=42)"
            ]
          },
          "execution_count": 9,
          "metadata": {},
          "output_type": "execute_result"
        }
      ],
      "source": [
        "k = 100  # Number of clusters\n",
        "#criteria = (cv2.TERM_CRITERIA_EPS + cv2.TERM_CRITERIA_MAX_ITER, 10, 1.0)\n",
        "#flags = cv2.KMEANS_RANDOM_CENTERS\n",
        "#compactness, labels, centers = cv2.kmeans(train_descriptors.astype(np.float32), k, None, criteria, 10, flags)\n",
        "\n",
        "from sklearn.cluster import KMeans\n",
        "\n",
        "kmeans_model = KMeans(n_clusters=k, n_init=10, max_iter=100, random_state=42)\n",
        "kmeans_model.fit(train_descriptors)"
      ]
    },
    {
      "cell_type": "markdown",
      "id": "b4cd1107-72da-4846-b640-f387c46ed512",
      "metadata": {
        "id": "b4cd1107-72da-4846-b640-f387c46ed512"
      },
      "source": [
        "# Histogram of Visual Words\n",
        "- In the next step, we want to apply the trained K-Means model to the descriptors of each image individually.\n",
        "- This way, we create a histogram denoting counts of feature clusters for every single image.\n",
        "- Think about it this way:\n",
        "    - Before this step, the number of descriptors found by SIFT may be different for each image.\n",
        "    - After we apply K-Means to each set of descriptors of a image, every image has a vector of length ``k`` that describes the visual words found in this image as they were computed from the whole training set.\n",
        "\n",
        "<a name=\"hovw\"></a>\n",
        "<div style=\"width: 500px; text-align: center;\">\n",
        "    <img src=\"https://miro.medium.com/max/625/1*QgI1t-7yJApi4vQigFgsLQ.jpeg\"/>\n",
        "    <a href=\"https://towardsdatascience.com/bag-of-visual-words-in-a-nutshell-9ceea97ce0fb\" style=\"\">Source</a>\n",
        "</div>\n",
        "\n",
        "### Constructing histogram with ``compute_feature_histogram(...)``\n",
        "- Suppose we set ``k=100`` and therefore computed 100 clusters from the descriptor list and we have 250 images in the training dataset.\n",
        "- ``compute_feature_histogram(...)`` should create a vector for each image (250 in this example) containing ``k=100`` elements.\n",
        "- Hence the shape of its return value will be ``(250, 100)``.\n",
        "- Remember that every image contains an arbitary number of descriptors found in it, thus we need to loop over the images separately to compute each histogram correctly.\n",
        "- Be sure to also apply the construction of histograms to your test set as well!\n",
        "- You may need to apply ``extract_features(...)`` to your testing set if you did not do so already."
      ]
    },
    {
      "cell_type": "code",
      "execution_count": 10,
      "id": "1ba6c9a4-9e31-408f-b20d-d91570886918",
      "metadata": {
        "id": "1ba6c9a4-9e31-408f-b20d-d91570886918",
        "tags": []
      },
      "outputs": [],
      "source": [
        "def compute_feature_histogram(_model, _desc_list, _k):\n",
        "    # Compute feature histogram\n",
        "    _bovw_features = np.zeros((len(_desc_list), _k), \"float32\")\n",
        "    for i, descr in enumerate(_desc_list):\n",
        "        labels = _model.predict(descr)\n",
        "        (hist, _) = np.histogram(labels, bins=range(_k + 1), density=True)\n",
        "        _bovw_features[i] = hist\n",
        "    return _bovw_features"
      ]
    },
    {
      "cell_type": "code",
      "execution_count": 11,
      "id": "ea8bec11-4914-4055-a220-e6e31e2eb043",
      "metadata": {
        "id": "ea8bec11-4914-4055-a220-e6e31e2eb043"
      },
      "outputs": [
        {
          "data": {
            "text/plain": [
              "130"
            ]
          },
          "execution_count": 11,
          "metadata": {},
          "output_type": "execute_result"
        }
      ],
      "source": [
        "train_bovw_features = compute_feature_histogram(kmeans_model, train_desc_list, k) # Assuming kmeans_model is your trained KMeans model\n",
        "train_bovw_features.shape\n",
        "len(y_train)"
      ]
    },
    {
      "cell_type": "code",
      "execution_count": 12,
      "id": "08a46e60-c138-4b5a-aeb9-23a5475bb6a9",
      "metadata": {
        "id": "08a46e60-c138-4b5a-aeb9-23a5475bb6a9"
      },
      "outputs": [],
      "source": [
        "test_desc_list = extract_features(X_test)\n",
        "test_bovw_features = compute_feature_histogram(kmeans_model, test_desc_list, k) # Assuming kmeans_model is your trained KMeans model"
      ]
    },
    {
      "cell_type": "markdown",
      "id": "0bb94ec7-ec34-404f-84ab-dbebe074cefe",
      "metadata": {
        "id": "0bb94ec7-ec34-404f-84ab-dbebe074cefe"
      },
      "source": [
        "# Image Classification\n",
        "<a name=\"classification\"></a>\n",
        "- Finally, train a MinDist classifier on the training set and predict the category of each image in the test set.\n",
        "- As always, remember that in scikit-learn, MinDist is called [Nearest Centroid](https://scikit-learn.org/stable/modules/generated/sklearn.neighbors.NearestCentroid.html?highlight=nearest%20centroid#sklearn.neighbors.NearestCentroid).\n",
        "- Evaluate your classifier's performance by plotting the confusion matrix!\n"
      ]
    },
    {
      "cell_type": "code",
      "execution_count": 13,
      "id": "fc3eb9fe-26ee-43f8-954f-0b2526262de9",
      "metadata": {
        "colab": {
          "base_uri": "https://localhost:8080/",
          "height": 581
        },
        "id": "fc3eb9fe-26ee-43f8-954f-0b2526262de9",
        "outputId": "2cab70b6-c1fc-4ae7-a63c-52eaa21026bf"
      },
      "outputs": [
        {
          "name": "stdout",
          "output_type": "stream",
          "text": [
            "Accuracy: 0.5757575757575758\n"
          ]
        },
        {
          "data": {
            "image/png": "[encoded data removed]",
            "text/plain": [
              "<Figure size 800x600 with 2 Axes>"
            ]
          },
          "metadata": {},
          "output_type": "display_data"
        }
      ],
      "source": [
        "# TODO: implement image classification steps described above!\n",
        "\n",
        "from sklearn.neighbors import NearestCentroid\n",
        "from sklearn.metrics import confusion_matrix, accuracy_score\n",
        "import matplotlib.pyplot as plt\n",
        "import seaborn as sns\n",
        "\n",
        "# ... (previous code for feature extraction, clustering, and histogram computation) ...\n",
        "\n",
        "# Train the Nearest Centroid classifier\n",
        "classifier = NearestCentroid()\n",
        "classifier.fit(train_bovw_features, y_train)\n",
        "\n",
        "# Predict on the test set\n",
        "y_pred = classifier.predict(test_bovw_features)\n",
        "\n",
        "# Evaluate performance\n",
        "accuracy = accuracy_score(y_test, y_pred)\n",
        "print(f\"Accuracy: {accuracy}\")\n",
        "\n",
        "# Plot the confusion matrix\n",
        "cm = confusion_matrix(y_test, y_pred)\n",
        "plt.figure(figsize=(8, 6))\n",
        "sns.heatmap(cm, annot=True, fmt=\"d\", cmap=\"Blues\",\n",
        "            xticklabels=use_classes, yticklabels=use_classes)\n",
        "plt.xlabel(\"Predicted Label\")\n",
        "plt.ylabel(\"True Label\")\n",
        "plt.title(\"Confusion Matrix\")\n",
        "plt.show()"
      ]
    },
    {
      "cell_type": "markdown",
      "id": "0e0196ad-995d-40f6-8174-bcac529d2319",
      "metadata": {
        "id": "0e0196ad-995d-40f6-8174-bcac529d2319"
      },
      "source": [
        "## Homework Assignment\n",
        "\n",
        "Extend your code to include the following:\n",
        "1. Extend your dataset to use 5 different individually chosen categories of images.\n",
        "2. Set up a grid search for at least three different ``k`` for K-Means and two different distance ``metric``s for MinDist.\n",
        "3. Evaluate the grid with 3-fold (stratified) cross validation with ``accuracy`` as the scoring method.\n",
        "4. Check if histogram normalization has an influence on your results by including it as an option in your grid search.\n",
        "5. Plot the confusion matrix for the test dataset using the best setting according to the grid search.\n",
        "6. Document your findings (see final comment in section Moodle Upload on the topics to include in your findings).\n",
        "\n",
        "\n",
        "## Moodle Upload\n",
        "This is an **indivdual** assignment, meaning that you are graded individually. If you have collaborated with colleagues during the lab, make sure to state **all** of their names at the beginning of the document. The final document **must** exhibit individual efforts (structure, variable settings, reasoning, interpretation) despite some inherent similarities.\n",
        "\n",
        "Upload your notebook as ``firstname_lastname_ip.html`` to Moodle.\n",
        "\n",
        "Make sure to consider the following:\n",
        "* Have all your import statements in one single cell at the top of the notebook.\n",
        "* Remove unnecessary code.\n",
        "* Include a markdown cell at the end where you:\n",
        "    * give a short overview of what your notebook is about\n",
        "    * be sure to describe BOVW in your own words: Which steps are necessary? How does it relate to the BoW-concept from NLP? What are \"words\" and \"documents\" in this context?\n",
        "    * describe and interpret your settings and justify your choices\n",
        "    * analyze the final/best results"
      ]
    },
    {
      "cell_type": "code",
      "execution_count": 17,
      "id": "62a24230-4008-463c-a6df-7546f79eed30",
      "metadata": {
        "id": "62a24230-4008-463c-a6df-7546f79eed30"
      },
      "outputs": [
        {
          "name": "stdout",
          "output_type": "stream",
          "text": [
            "k=50, metric=euclidean, normalize=True, accuracy=0.5391\n",
            "k=50, metric=euclidean, normalize=False, accuracy=0.5391\n",
            "k=50, metric=manhattan, normalize=True, accuracy=0.5548\n",
            "k=50, metric=manhattan, normalize=False, accuracy=0.5548\n",
            "k=100, metric=euclidean, normalize=True, accuracy=0.6163\n",
            "k=100, metric=euclidean, normalize=False, accuracy=0.6163\n",
            "k=100, metric=manhattan, normalize=True, accuracy=0.6011\n",
            "k=100, metric=manhattan, normalize=False, accuracy=0.6011\n",
            "k=150, metric=euclidean, normalize=True, accuracy=0.6082\n",
            "k=150, metric=euclidean, normalize=False, accuracy=0.6082\n",
            "k=150, metric=manhattan, normalize=True, accuracy=0.5930\n",
            "k=150, metric=manhattan, normalize=False, accuracy=0.5930\n"
          ]
        },
        {
          "ename": "TypeError",
          "evalue": "compute_feature_histogram() takes 3 positional arguments but 4 were given",
          "output_type": "error",
          "traceback": [
            "\u001b[0;31m---------------------------------------------------------------------------\u001b[0m",
            "\u001b[0;31mTypeError\u001b[0m                                 Traceback (most recent call last)",
            "Cell \u001b[0;32mIn[17], line 39\u001b[0m\n\u001b[1;32m     37\u001b[0m best_kmeans \u001b[38;5;241m=\u001b[39m KMeans(n_clusters\u001b[38;5;241m=\u001b[39mbest_params[\u001b[38;5;124m\"\u001b[39m\u001b[38;5;124mk\u001b[39m\u001b[38;5;124m\"\u001b[39m], n_init\u001b[38;5;241m=\u001b[39m\u001b[38;5;241m10\u001b[39m, max_iter\u001b[38;5;241m=\u001b[39m\u001b[38;5;241m300\u001b[39m, random_state\u001b[38;5;241m=\u001b[39m\u001b[38;5;241m42\u001b[39m)\n\u001b[1;32m     38\u001b[0m best_kmeans\u001b[38;5;241m.\u001b[39mfit(train_descriptors)\n\u001b[0;32m---> 39\u001b[0m train_bovw_features \u001b[38;5;241m=\u001b[39m \u001b[43mcompute_feature_histogram\u001b[49m\u001b[43m(\u001b[49m\u001b[43mbest_kmeans\u001b[49m\u001b[43m,\u001b[49m\u001b[43m \u001b[49m\u001b[43mtrain_desc_list\u001b[49m\u001b[43m,\u001b[49m\u001b[43m \u001b[49m\u001b[43mbest_params\u001b[49m\u001b[43m[\u001b[49m\u001b[38;5;124;43m\"\u001b[39;49m\u001b[38;5;124;43mk\u001b[39;49m\u001b[38;5;124;43m\"\u001b[39;49m\u001b[43m]\u001b[49m\u001b[43m,\u001b[49m\u001b[43m \u001b[49m\u001b[43mbest_params\u001b[49m\u001b[43m[\u001b[49m\u001b[38;5;124;43m\"\u001b[39;49m\u001b[38;5;124;43mnormalize\u001b[39;49m\u001b[38;5;124;43m\"\u001b[39;49m\u001b[43m]\u001b[49m\u001b[43m)\u001b[49m\n\u001b[1;32m     40\u001b[0m test_sift_features \u001b[38;5;241m=\u001b[39m extract_features(X_test)\n\u001b[1;32m     41\u001b[0m test_bovw_features \u001b[38;5;241m=\u001b[39m compute_feature_histogram(best_kmeans, test_sift_features, best_params[\u001b[38;5;124m\"\u001b[39m\u001b[38;5;124mk\u001b[39m\u001b[38;5;124m\"\u001b[39m], best_params[\u001b[38;5;124m\"\u001b[39m\u001b[38;5;124mnormalize\u001b[39m\u001b[38;5;124m\"\u001b[39m])\n",
            "\u001b[0;31mTypeError\u001b[0m: compute_feature_histogram() takes 3 positional arguments but 4 were given"
          ]
        }
      ],
      "source": [
        "train_descriptors = np.vstack([desc for desc in train_desc_list if desc is not None])\n",
        "\n",
        "# Grid search parameters\n",
        "k_values = [50, 100, 150]  # Different cluster sizes\n",
        "metrics = [\"euclidean\", \"manhattan\"]  # Different distance metrics\n",
        "normalize_options = [True, False]  # Check impact of histogram normalization\n",
        "\n",
        "# Perform Grid Search\n",
        "best_score = 0\n",
        "best_params = {}\n",
        "for k in k_values:\n",
        "    kmeans = KMeans(n_clusters=k, n_init=10, max_iter=300, random_state=42)\n",
        "    kmeans.fit(train_descriptors)\n",
        "    \n",
        "    for metric in metrics:\n",
        "        for normalize in normalize_options:\n",
        "            # Compute histograms\n",
        "            train_bovw_features = compute_feature_histogram(kmeans, train_desc_list, k, normalize)\n",
        "            \n",
        "            # Cross-validation\n",
        "            skf = StratifiedKFold(n_splits=3, shuffle=True, random_state=42)\n",
        "            clf = NearestCentroid(metric=metric)\n",
        "            scores = []\n",
        "            for train_idx, val_idx in skf.split(train_bovw_features, y_train):\n",
        "                clf.fit(train_bovw_features[train_idx], np.array(y_train)[train_idx])\n",
        "                scores.append(accuracy_score(np.array(y_train)[val_idx], clf.predict(train_bovw_features[val_idx])))\n",
        "            \n",
        "            avg_score = np.mean(scores)\n",
        "            print(f\"k={k}, metric={metric}, normalize={normalize}, accuracy={avg_score:.4f}\")\n",
        "            \n",
        "            # Store best parameters\n",
        "            if avg_score > best_score:\n",
        "                best_score = avg_score\n",
        "                best_params = {\"k\": k, \"metric\": metric, \"normalize\": normalize}\n",
        "\n",
        "# Train with best settings\n",
        "best_kmeans = KMeans(n_clusters=best_params[\"k\"], n_init=10, max_iter=300, random_state=42)\n",
        "best_kmeans.fit(train_descriptors)\n",
        "train_bovw_features = compute_feature_histogram(best_kmeans, train_desc_list, best_params[\"k\"], best_params[\"normalize\"])\n",
        "test_sift_features = extract_features(X_test)\n",
        "test_bovw_features = compute_feature_histogram(best_kmeans, test_sift_features, best_params[\"k\"], best_params[\"normalize\"])\n",
        "\n",
        "clf = NearestCentroid(metric=best_params[\"metric\"])\n",
        "clf.fit(train_bovw_features, y_train)\n",
        "y_pred = clf.predict(test_bovw_features)\n",
        "\n",
        "# Evaluate final model\n",
        "accuracy = accuracy_score(y_test, y_pred)\n",
        "print(f\"Final Test Accuracy: {accuracy:.4f}\")\n",
        "conf_matrix = confusion_matrix(y_test, y_pred)\n",
        "plt.figure(figsize=(8, 6))\n",
        "sns.heatmap(conf_matrix, annot=True, fmt=\"d\", cmap=\"Blues\", xticklabels=use_classes, yticklabels=use_classes)\n",
        "plt.xlabel(\"Predicted Label\")\n",
        "plt.ylabel(\"True Label\")\n",
        "plt.title(\"Confusion Matrix\")\n",
        "plt.show()\n",
        "\n",
        "# Document findings\n",
        "print(\"Best Parameters:\", best_params)\n",
        "print(\"Final Accuracy:\", accuracy)"
      ]
    }
  ],
  "metadata": {
    "colab": {
      "provenance": []
    },
    "kernelspec": {
      "display_name": "Python 3",
      "language": "python",
      "name": "python3"
    },
    "language_info": {
      "codemirror_mode": {
        "name": "ipython",
        "version": 3
      },
      "file_extension": ".py",
      "mimetype": "text/x-python",
      "name": "python",
      "nbconvert_exporter": "python",
      "pygments_lexer": "ipython3",
      "version": "3.9.6"
    }
  },
  "nbformat": 4,
  "nbformat_minor": 5
}
